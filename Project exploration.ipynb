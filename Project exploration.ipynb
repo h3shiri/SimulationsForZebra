{
 "cells": [
  {
   "cell_type": "code",
   "execution_count": 2,
   "metadata": {
    "_cell_guid": "b1076dfc-b9ad-4769-8c92-a6c4dae69d19",
    "_uuid": "8f2839f25d086af736a60e9eeb907d3b93b6e0e5"
   },
   "outputs": [
    {
     "name": "stderr",
     "output_type": "stream",
     "text": [
      "/anaconda3/lib/python3.6/site-packages/h5py/__init__.py:36: FutureWarning: Conversion of the second argument of issubdtype from `float` to `np.floating` is deprecated. In future, it will be treated as `np.float64 == np.dtype(float).type`.\n",
      "  from ._conv import register_converters as _register_converters\n",
      "Using TensorFlow backend.\n"
     ]
    },
    {
     "name": "stdout",
     "output_type": "stream",
     "text": [
      "['smiley.jpeg', '.DS_Store', 'smiley_resized.jpg', 'Project exploration.ipynb', 'sample.zip', 'Competition_On_NIH', 'Project_sample.zip', 'Project_sample', 'sample', '.ipynb_checkpoints', 'rotatingImages.py']\n"
     ]
    }
   ],
   "source": [
    "# This Python 3 environment comes with many helpful analytics libraries installed\n",
    "# It is defined by the kaggle/python docker image: https://github.com/kaggle/docker-python\n",
    "# For example, here's several helpful packages to load in \n",
    "\n",
    "import numpy as np # linear algebra\n",
    "import pandas as pd # data processing, CSV file I/O (e.g. pd.read_csv)\n",
    "import keras # for machine learning models\n",
    "\n",
    "\n",
    "#We import the required libraries for data exploration and visualization.\n",
    "\n",
    "import matplotlib.pyplot as plt\n",
    "import os\n",
    "#Image processing and resizig\n",
    "# import cv2 # Import issues for the environment space\n",
    "# import imutils # Same \n",
    "import seaborn as sns\n",
    "%matplotlib inline\n",
    "\n",
    "# For example, running this (by clicking run or pressing Shift+Enter) will list the files in the input directory\n",
    "\n",
    "import os\n",
    "print(os.listdir(\".\"))\n",
    "\n",
    "# Any results you write to the current directory are saved as output."
   ]
  },
  {
   "cell_type": "code",
   "execution_count": 3,
   "metadata": {
    "_uuid": "4ae81a7333be6a3f4c23fb2fb7c035550553c987"
   },
   "outputs": [],
   "source": [
    "PATH_TO_SAMPLES = 'sample/images/'\n",
    "PATH_TO_META_SAMPLES = 'sample/updated_rotated_samples.csv'"
   ]
  },
  {
   "cell_type": "code",
   "execution_count": 4,
   "metadata": {
    "_cell_guid": "79c7e3d0-c299-4dcb-8224-4455121ee9b0",
    "_uuid": "d629ff2d2480ee46fbb7e2d37f6b5fab8052498a"
   },
   "outputs": [
    {
     "data": {
      "text/html": [
       "<div>\n",
       "<style scoped>\n",
       "    .dataframe tbody tr th:only-of-type {\n",
       "        vertical-align: middle;\n",
       "    }\n",
       "\n",
       "    .dataframe tbody tr th {\n",
       "        vertical-align: top;\n",
       "    }\n",
       "\n",
       "    .dataframe thead th {\n",
       "        text-align: right;\n",
       "    }\n",
       "</style>\n",
       "<table border=\"1\" class=\"dataframe\">\n",
       "  <thead>\n",
       "    <tr style=\"text-align: right;\">\n",
       "      <th></th>\n",
       "      <th>image_index</th>\n",
       "      <th>patient_age</th>\n",
       "      <th>view_position</th>\n",
       "      <th>originalimagewidth</th>\n",
       "      <th>originalimageheight</th>\n",
       "      <th>rotations</th>\n",
       "      <th>labels</th>\n",
       "    </tr>\n",
       "  </thead>\n",
       "  <tbody>\n",
       "    <tr>\n",
       "      <th>0</th>\n",
       "      <td>00000013_005.png</td>\n",
       "      <td>60</td>\n",
       "      <td>AP</td>\n",
       "      <td>3056</td>\n",
       "      <td>2544</td>\n",
       "      <td>0</td>\n",
       "      <td>AP-0</td>\n",
       "    </tr>\n",
       "    <tr>\n",
       "      <th>1</th>\n",
       "      <td>00000013_026.png</td>\n",
       "      <td>57</td>\n",
       "      <td>AP</td>\n",
       "      <td>2500</td>\n",
       "      <td>2048</td>\n",
       "      <td>0</td>\n",
       "      <td>AP-0</td>\n",
       "    </tr>\n",
       "    <tr>\n",
       "      <th>2</th>\n",
       "      <td>00000017_001.png</td>\n",
       "      <td>77</td>\n",
       "      <td>AP</td>\n",
       "      <td>2500</td>\n",
       "      <td>2048</td>\n",
       "      <td>0</td>\n",
       "      <td>AP-0</td>\n",
       "    </tr>\n",
       "    <tr>\n",
       "      <th>3</th>\n",
       "      <td>00000030_001.png</td>\n",
       "      <td>79</td>\n",
       "      <td>PA</td>\n",
       "      <td>2992</td>\n",
       "      <td>2991</td>\n",
       "      <td>0</td>\n",
       "      <td>PA-0</td>\n",
       "    </tr>\n",
       "    <tr>\n",
       "      <th>4</th>\n",
       "      <td>00000032_001.png</td>\n",
       "      <td>55</td>\n",
       "      <td>AP</td>\n",
       "      <td>2500</td>\n",
       "      <td>2048</td>\n",
       "      <td>0</td>\n",
       "      <td>AP-0</td>\n",
       "    </tr>\n",
       "  </tbody>\n",
       "</table>\n",
       "</div>"
      ],
      "text/plain": [
       "        image_index  patient_age view_position  originalimagewidth  \\\n",
       "0  00000013_005.png           60            AP                3056   \n",
       "1  00000013_026.png           57            AP                2500   \n",
       "2  00000017_001.png           77            AP                2500   \n",
       "3  00000030_001.png           79            PA                2992   \n",
       "4  00000032_001.png           55            AP                2500   \n",
       "\n",
       "   originalimageheight  rotations labels  \n",
       "0                 2544          0   AP-0  \n",
       "1                 2048          0   AP-0  \n",
       "2                 2048          0   AP-0  \n",
       "3                 2991          0   PA-0  \n",
       "4                 2048          0   AP-0  "
      ]
     },
     "execution_count": 4,
     "metadata": {},
     "output_type": "execute_result"
    }
   ],
   "source": [
    "data = pd.read_csv(PATH_TO_META_SAMPLES)\n",
    "data.head()"
   ]
  },
  {
   "cell_type": "code",
   "execution_count": 5,
   "metadata": {},
   "outputs": [
    {
     "data": {
      "text/plain": [
       "array(['AP-0', 'PA-0', 'AP-90', 'PA-90', 'AP-180', 'PA-180', 'PA-270',\n",
       "       'AP-270'], dtype=object)"
      ]
     },
     "execution_count": 5,
     "metadata": {},
     "output_type": "execute_result"
    }
   ],
   "source": [
    "data['labels'].unique()"
   ]
  },
  {
   "cell_type": "markdown",
   "metadata": {
    "_uuid": "a1f271a6193ae09cb49cc1af5c7ac29c28a79540"
   },
   "source": [
    "### visualising some of the inputs label"
   ]
  },
  {
   "cell_type": "code",
   "execution_count": 6,
   "metadata": {},
   "outputs": [
    {
     "data": {
      "image/png": "[encoded data removed]",
      "text/plain": [
       "<Figure size 775x720 with 20 Axes>"
      ]
     },
     "metadata": {},
     "output_type": "display_data"
    }
   ],
   "source": [
    "sns.pairplot(data=data[data.columns[1:7]], hue='rotations')\n",
    "plt.show()\n",
    "# No apperant data relationship here and so we move to plotting the Keras framework"
   ]
  },
  {
   "cell_type": "code",
   "execution_count": 7,
   "metadata": {},
   "outputs": [
    {
     "data": {
      "text/plain": [
       "Text(0,0.5,'Count')"
      ]
     },
     "execution_count": 7,
     "metadata": {},
     "output_type": "execute_result"
    },
    {
     "data": {
      "image/png": "[encoded data removed]",
      "text/plain": [
       "<Figure size 2160x576 with 1 Axes>"
      ]
     },
     "metadata": {},
     "output_type": "display_data"
    }
   ],
   "source": [
    "# distribution of the target age\n",
    "\n",
    "ax = plt.figure(figsize=(30, 8))\n",
    "sns.countplot(data.patient_age)\n",
    "axis_font = {'fontname':'Arial', 'size':'24'}\n",
    "plt.xlabel('age',  **axis_font)\n",
    "plt.ylabel('Count',  **axis_font)"
   ]
  },
  {
   "cell_type": "code",
   "execution_count": 8,
   "metadata": {},
   "outputs": [
    {
     "data": {
      "text/plain": [
       "Text(0,0.5,'Count')"
      ]
     },
     "execution_count": 8,
     "metadata": {},
     "output_type": "execute_result"
    },
    {
     "data": {
      "image/png": "[encoded data removed]",
      "text/plain": [
       "<Figure size 2160x576 with 1 Axes>"
      ]
     },
     "metadata": {},
     "output_type": "display_data"
    }
   ],
   "source": [
    "# distribution of the target labels\n",
    "\n",
    "ax = plt.figure(figsize=(30, 8))\n",
    "sns.countplot(data.labels)\n",
    "axis_font = {'fontname':'Arial', 'size':'24'}\n",
    "plt.xlabel('age',  **axis_font)\n",
    "plt.ylabel('Count',  **axis_font)"
   ]
  },
  {
   "cell_type": "markdown",
   "metadata": {},
   "source": [
    "### Pre processing of the images to fit the required model"
   ]
  },
  {
   "cell_type": "code",
   "execution_count": 9,
   "metadata": {},
   "outputs": [
    {
     "data": {
      "text/html": [
       "<div>\n",
       "<style scoped>\n",
       "    .dataframe tbody tr th:only-of-type {\n",
       "        vertical-align: middle;\n",
       "    }\n",
       "\n",
       "    .dataframe tbody tr th {\n",
       "        vertical-align: top;\n",
       "    }\n",
       "\n",
       "    .dataframe thead th {\n",
       "        text-align: right;\n",
       "    }\n",
       "</style>\n",
       "<table border=\"1\" class=\"dataframe\">\n",
       "  <thead>\n",
       "    <tr style=\"text-align: right;\">\n",
       "      <th></th>\n",
       "      <th>image_index</th>\n",
       "      <th>patient_age</th>\n",
       "      <th>view_position</th>\n",
       "      <th>originalimagewidth</th>\n",
       "      <th>originalimageheight</th>\n",
       "      <th>rotations</th>\n",
       "      <th>labels</th>\n",
       "    </tr>\n",
       "  </thead>\n",
       "  <tbody>\n",
       "    <tr>\n",
       "      <th>0</th>\n",
       "      <td>00000013_005.png</td>\n",
       "      <td>60</td>\n",
       "      <td>AP</td>\n",
       "      <td>3056</td>\n",
       "      <td>2544</td>\n",
       "      <td>0</td>\n",
       "      <td>AP-0</td>\n",
       "    </tr>\n",
       "    <tr>\n",
       "      <th>1</th>\n",
       "      <td>00000013_026.png</td>\n",
       "      <td>57</td>\n",
       "      <td>AP</td>\n",
       "      <td>2500</td>\n",
       "      <td>2048</td>\n",
       "      <td>0</td>\n",
       "      <td>AP-0</td>\n",
       "    </tr>\n",
       "    <tr>\n",
       "      <th>2</th>\n",
       "      <td>00000017_001.png</td>\n",
       "      <td>77</td>\n",
       "      <td>AP</td>\n",
       "      <td>2500</td>\n",
       "      <td>2048</td>\n",
       "      <td>0</td>\n",
       "      <td>AP-0</td>\n",
       "    </tr>\n",
       "    <tr>\n",
       "      <th>3</th>\n",
       "      <td>00000030_001.png</td>\n",
       "      <td>79</td>\n",
       "      <td>PA</td>\n",
       "      <td>2992</td>\n",
       "      <td>2991</td>\n",
       "      <td>0</td>\n",
       "      <td>PA-0</td>\n",
       "    </tr>\n",
       "    <tr>\n",
       "      <th>4</th>\n",
       "      <td>00000032_001.png</td>\n",
       "      <td>55</td>\n",
       "      <td>AP</td>\n",
       "      <td>2500</td>\n",
       "      <td>2048</td>\n",
       "      <td>0</td>\n",
       "      <td>AP-0</td>\n",
       "    </tr>\n",
       "  </tbody>\n",
       "</table>\n",
       "</div>"
      ],
      "text/plain": [
       "        image_index  patient_age view_position  originalimagewidth  \\\n",
       "0  00000013_005.png           60            AP                3056   \n",
       "1  00000013_026.png           57            AP                2500   \n",
       "2  00000017_001.png           77            AP                2500   \n",
       "3  00000030_001.png           79            PA                2992   \n",
       "4  00000032_001.png           55            AP                2500   \n",
       "\n",
       "   originalimageheight  rotations labels  \n",
       "0                 2544          0   AP-0  \n",
       "1                 2048          0   AP-0  \n",
       "2                 2048          0   AP-0  \n",
       "3                 2991          0   PA-0  \n",
       "4                 2048          0   AP-0  "
      ]
     },
     "execution_count": 9,
     "metadata": {},
     "output_type": "execute_result"
    }
   ],
   "source": [
    "data.head()"
   ]
  },
  {
   "cell_type": "code",
   "execution_count": 10,
   "metadata": {},
   "outputs": [
    {
     "name": "stdout",
     "output_type": "stream",
     "text": [
      "Found 5606 images belonging to 8 classes.\n"
     ]
    }
   ],
   "source": [
    "from keras_preprocessing.image import ImageDataGenerator\n",
    "datagen=ImageDataGenerator(rescale=1./255)\n",
    "# Keras input shape for inceptionV3 model\n",
    "input_shape = (299, 299, 3)\n",
    "train_generator=datagen.flow_from_dataframe(dataframe=data, directory=PATH_TO_SAMPLES, x_col=\"image_index\", y_col=\"labels\", has_ext=True, class_mode=\"categorical\", target_size=(299,299), batch_size=32)"
   ]
  },
  {
   "cell_type": "markdown",
   "metadata": {},
   "source": [
    "#### TODO : fix validation set to be seperate from the training data"
   ]
  },
  {
   "cell_type": "code",
   "execution_count": 11,
   "metadata": {},
   "outputs": [
    {
     "name": "stdout",
     "output_type": "stream",
     "text": [
      "Found 5606 images belonging to 8 classes.\n"
     ]
    }
   ],
   "source": [
    "datagen=ImageDataGenerator(rescale=1./255)\n",
    "# Keras input shape for inceptionV3 model\n",
    "input_shape = (299, 299, 3)\n",
    "valid_generator=datagen.flow_from_dataframe(dataframe=data, directory=PATH_TO_SAMPLES, x_col=\"image_index\", y_col=\"labels\", has_ext=True, class_mode=\"categorical\", target_size=(299,299), batch_size=32)"
   ]
  },
  {
   "cell_type": "code",
   "execution_count": 12,
   "metadata": {},
   "outputs": [
    {
     "data": {
      "text/plain": [
       "(299, 299, 3)"
      ]
     },
     "execution_count": 12,
     "metadata": {},
     "output_type": "execute_result"
    }
   ],
   "source": [
    "from keras.preprocessing.image import array_to_img, img_to_array, load_img\n",
    "img = load_img('sample/images/00000013_026.png')  # this is a PIL image\n",
    "x = img_to_array(img)  # this is a Numpy array with shape (300, 300, 3)\n",
    "np.shape(x)"
   ]
  },
  {
   "cell_type": "markdown",
   "metadata": {},
   "source": [
    "#### Loading the model from our previous session"
   ]
  },
  {
   "cell_type": "code",
   "execution_count": 17,
   "metadata": {},
   "outputs": [
    {
     "data": {
      "text/plain": [
       "['my_model_V1.h5',\n",
       " '.DS_Store',\n",
       " 'images',\n",
       " 'sample.zip',\n",
       " 'images_copy',\n",
       " 'updated_rotated_samples.csv',\n",
       " 'rotated_sample.csv',\n",
       " 'images rotated_copy',\n",
       " 'my_model.h5',\n",
       " 'Creating_rotated_images.ipynb',\n",
       " '.ipynb_checkpoints',\n",
       " 'sample_labels.csv']"
      ]
     },
     "execution_count": 17,
     "metadata": {},
     "output_type": "execute_result"
    }
   ],
   "source": [
    "os.listdir(\"sample/\") "
   ]
  },
  {
   "cell_type": "code",
   "execution_count": 18,
   "metadata": {},
   "outputs": [
    {
     "name": "stderr",
     "output_type": "stream",
     "text": [
      "/anaconda3/lib/python3.6/site-packages/keras/engine/saving.py:292: UserWarning: No training configuration found in save file: the model was *not* compiled. Compile it manually.\n",
      "  warnings.warn('No training configuration found in save file: '\n"
     ]
    }
   ],
   "source": [
    "from keras.models import load_model\n",
    "model = load_model('sample/my_model.h5')\n",
    "new_model = load_model('sample/my_model_V1.h5')"
   ]
  },
  {
   "cell_type": "markdown",
   "metadata": {},
   "source": [
    "#### Tweaking the model to the required shpae for multiclass, classification"
   ]
  },
  {
   "cell_type": "markdown",
   "metadata": {},
   "source": [
    "#### Compiling the model"
   ]
  },
  {
   "cell_type": "code",
   "execution_count": 14,
   "metadata": {},
   "outputs": [],
   "source": [
    "# Compile model\n",
    "model.compile(loss='binary_crossentropy', optimizer='adam', metrics=['accuracy'])"
   ]
  },
  {
   "cell_type": "code",
   "execution_count": 12,
   "metadata": {},
   "outputs": [
    {
     "name": "stdout",
     "output_type": "stream",
     "text": [
      "8\n"
     ]
    }
   ],
   "source": [
    "nClasses= data.labels.unique()\n",
    "print(len(nClasses))"
   ]
  },
  {
   "cell_type": "markdown",
   "metadata": {},
   "source": [
    "### Using Seuential to build model from pre defined option"
   ]
  },
  {
   "cell_type": "code",
   "execution_count": 26,
   "metadata": {},
   "outputs": [],
   "source": [
    "#Using Sequiential to build an appropriate model\n",
    "from keras.models import Sequential\n",
    "from keras.layers import Dense\n",
    "from keras import layers\n",
    "base_model = model\n",
    "nClasses= len(data.labels.unique())\n",
    "new_model = Sequential()\n",
    "new_model.add(base_model)\n",
    "new_model.add(layers.Flatten())\n",
    "new_model.add(layers.Dense(1024, activation='relu'))\n",
    "new_model.add(layers.Dropout(0.5))\n",
    "new_model.add(Dense(nClasses, activation='softmax'))"
   ]
  },
  {
   "cell_type": "code",
   "execution_count": 19,
   "metadata": {},
   "outputs": [
    {
     "name": "stdout",
     "output_type": "stream",
     "text": [
      "_________________________________________________________________\n",
      "Layer (type)                 Output Shape              Param #   \n",
      "=================================================================\n",
      "inception_v3 (Model)         (None, 8, 8, 2048)        21802784  \n",
      "_________________________________________________________________\n",
      "flatten_2 (Flatten)          (None, 131072)            0         \n",
      "_________________________________________________________________\n",
      "dense_2 (Dense)              (None, 1024)              134218752 \n",
      "_________________________________________________________________\n",
      "dropout_1 (Dropout)          (None, 1024)              0         \n",
      "_________________________________________________________________\n",
      "dense_3 (Dense)              (None, 8)                 8200      \n",
      "=================================================================\n",
      "Total params: 156,029,736\n",
      "Trainable params: 155,995,304\n",
      "Non-trainable params: 34,432\n",
      "_________________________________________________________________\n"
     ]
    }
   ],
   "source": [
    "new_model.summary()"
   ]
  },
  {
   "cell_type": "code",
   "execution_count": 28,
   "metadata": {},
   "outputs": [],
   "source": [
    "new_model.compile(loss='categorical_crossentropy', optimizer='adam', metrics=['accuracy'])"
   ]
  },
  {
   "cell_type": "markdown",
   "metadata": {},
   "source": [
    "##### Some of the actual code to train the model"
   ]
  },
  {
   "cell_type": "code",
   "execution_count": 21,
   "metadata": {},
   "outputs": [
    {
     "name": "stdout",
     "output_type": "stream",
     "text": [
      "Epoch 1/1\n",
      "2/2 [==============================] - 845s 423s/step - loss: 13.8515 - acc: 0.1406 - val_loss: 13.3198 - val_acc: 0.1729\n"
     ]
    }
   ],
   "source": [
    "from keras.callbacks import TensorBoard\n",
    "from time import time\n",
    "# Code I should use to train the model on the relevant data, or somehting similar.\n",
    "STEP_SIZE_TRAIN=train_generator.n//train_generator.batch_size\n",
    "STEP_SIZE_VALID=valid_generator.n//valid_generator.batch_size\n",
    "\n",
    "tensorboard = TensorBoard(log_dir=\"logs/{}\".format(time()))\n",
    "history = new_model.fit_generator(generator=train_generator,\n",
    "                    validation_data=valid_generator,\n",
    "                    validation_steps=STEP_SIZE_VALID,\n",
    "                    steps_per_epoch = 2)"
   ]
  },
  {
   "cell_type": "code",
   "execution_count": 22,
   "metadata": {},
   "outputs": [
    {
     "data": {
      "text/plain": [
       "{'val_loss': [13.319785374232701],\n",
       " 'val_acc': [0.17285714285714285],\n",
       " 'loss': [13.85148811340332],\n",
       " 'acc': [0.140625]}"
      ]
     },
     "execution_count": 22,
     "metadata": {},
     "output_type": "execute_result"
    }
   ],
   "source": [
    "history.history"
   ]
  },
  {
   "cell_type": "markdown",
   "metadata": {},
   "source": [
    "#### Smapling the model effectiveness "
   ]
  },
  {
   "cell_type": "code",
   "execution_count": 24,
   "metadata": {},
   "outputs": [],
   "source": [
    "#Choose an index form the data\n",
    "index = 3400"
   ]
  },
  {
   "cell_type": "code",
   "execution_count": 26,
   "metadata": {},
   "outputs": [
    {
     "data": {
      "text/html": [
       "<div>\n",
       "<style scoped>\n",
       "    .dataframe tbody tr th:only-of-type {\n",
       "        vertical-align: middle;\n",
       "    }\n",
       "\n",
       "    .dataframe tbody tr th {\n",
       "        vertical-align: top;\n",
       "    }\n",
       "\n",
       "    .dataframe thead th {\n",
       "        text-align: right;\n",
       "    }\n",
       "</style>\n",
       "<table border=\"1\" class=\"dataframe\">\n",
       "  <thead>\n",
       "    <tr style=\"text-align: right;\">\n",
       "      <th></th>\n",
       "      <th>image_index</th>\n",
       "      <th>patient_age</th>\n",
       "      <th>view_position</th>\n",
       "      <th>originalimagewidth</th>\n",
       "      <th>originalimageheight</th>\n",
       "      <th>rotations</th>\n",
       "      <th>labels</th>\n",
       "    </tr>\n",
       "  </thead>\n",
       "  <tbody>\n",
       "    <tr>\n",
       "      <th>3400</th>\n",
       "      <td>00016778_039.png</td>\n",
       "      <td>27</td>\n",
       "      <td>AP</td>\n",
       "      <td>3056</td>\n",
       "      <td>2544</td>\n",
       "      <td>180</td>\n",
       "      <td>AP-180</td>\n",
       "    </tr>\n",
       "    <tr>\n",
       "      <th>3401</th>\n",
       "      <td>00016784_002.png</td>\n",
       "      <td>30</td>\n",
       "      <td>AP</td>\n",
       "      <td>2500</td>\n",
       "      <td>2048</td>\n",
       "      <td>180</td>\n",
       "      <td>AP-180</td>\n",
       "    </tr>\n",
       "  </tbody>\n",
       "</table>\n",
       "</div>"
      ],
      "text/plain": [
       "           image_index  patient_age view_position  originalimagewidth  \\\n",
       "3400  00016778_039.png           27            AP                3056   \n",
       "3401  00016784_002.png           30            AP                2500   \n",
       "\n",
       "      originalimageheight  rotations  labels  \n",
       "3400                 2544        180  AP-180  \n",
       "3401                 2048        180  AP-180  "
      ]
     },
     "execution_count": 26,
     "metadata": {},
     "output_type": "execute_result"
    }
   ],
   "source": [
    "data[index:index+2]"
   ]
  },
  {
   "cell_type": "code",
   "execution_count": 25,
   "metadata": {},
   "outputs": [
    {
     "name": "stdout",
     "output_type": "stream",
     "text": [
      "[INFO] loading and preprocessing image...\n",
      "Image ID: 00016778_039.png, label from data : AP-180\n",
      "Image ID: 00016778_039.png, prediciton: [0. 0. 1. 0. 0. 0. 0. 0.] ,Predicted Label: AP-90\n"
     ]
    }
   ],
   "source": [
    "from keras.models import load_model\n",
    "from keras.preprocessing import image\n",
    "import numpy as np\n",
    "IMAGES_PATH = 'sample/images/'\n",
    "sample = data.image_index[index]\n",
    "FULL_PATH = IMAGES_PATH + sample\n",
    "\n",
    "print(\"[INFO] loading and preprocessing image...\")\n",
    "# dimensions of our images\n",
    "img_width, img_height = 299, 299\n",
    "# predicting images\n",
    "img = image.load_img(FULL_PATH, target_size=(img_width, img_height))\n",
    "x = image.img_to_array(img)\n",
    "# important! otherwise the predictions will be '0'  \n",
    "x = x / 255  \n",
    "x = np.expand_dims(x, axis=0)\n",
    "\n",
    "# get the bottleneck prediction from the new_model\n",
    "bottleneck_prediction = new_model.predict(x)  \n",
    "\n",
    "#Fetching the relevant result from the prediction of the data\n",
    "ID = np.argmax(bottleneck_prediction[0])\n",
    "# Dictionary object of the generator labels\n",
    "class_dictionary = train_generator.class_indices  \n",
    "inv_map = {v: k for k, v in class_dictionary.items()}\n",
    "label = inv_map[ID]\n",
    "print(\"Image ID: {}, label from data : {}\".format(data.image_index[index], data.labels[index]))\n",
    "print(\"Image ID: {}, prediciton: {} ,Predicted Label: {}\".format(data.image_index[index], bottleneck_prediction[0],label))"
   ]
  },
  {
   "cell_type": "markdown",
   "metadata": {},
   "source": [
    "#### Visualising satistics for the training phase"
   ]
  },
  {
   "cell_type": "code",
   "execution_count": 158,
   "metadata": {},
   "outputs": [
    {
     "data": {
      "image/png": "[encoded data removed]",
      "text/plain": [
       "<Figure size 432x288 with 1 Axes>"
      ]
     },
     "metadata": {},
     "output_type": "display_data"
    }
   ],
   "source": [
    "#Printing the relevant values for the acccuracy over time\n",
    "plt.plot(history.history['acc'])\n",
    "plt.plot(history.history['val_acc'])\n",
    "plt.title('model accuracy')\n",
    "plt.ylabel('accuracy')\n",
    "plt.xlabel('epoch')\n",
    "plt.legend(['train', 'test'], loc='upper left')\n",
    "plt.show()"
   ]
  },
  {
   "cell_type": "markdown",
   "metadata": {},
   "source": [
    "#### TODO : fix and find there is missing values for accuracy, loss..etc"
   ]
  },
  {
   "cell_type": "code",
   "execution_count": 58,
   "metadata": {},
   "outputs": [
    {
     "data": {
      "text/plain": [
       "{'val_loss': [13.303119418866583],\n",
       " 'val_acc': [0.17384284177068574],\n",
       " 'loss': [12.529300808906555],\n",
       " 'acc': [0.22265625]}"
      ]
     },
     "execution_count": 58,
     "metadata": {},
     "output_type": "execute_result"
    }
   ],
   "source": [
    "history.history"
   ]
  },
  {
   "cell_type": "code",
   "execution_count": 49,
   "metadata": {},
   "outputs": [
    {
     "data": {
      "image/png": "[encoded data removed]",
      "text/plain": [
       "<Figure size 432x288 with 1 Axes>"
      ]
     },
     "metadata": {},
     "output_type": "display_data"
    }
   ],
   "source": [
    "# summarize history for loss\n",
    "plt.plot(history.history['loss'])\n",
    "plt.plot(history.history['val_loss'])\n",
    "plt.title('model loss')\n",
    "plt.ylabel('loss')\n",
    "plt.xlabel('epoch')\n",
    "plt.legend(['train', 'test'], loc='upper left')\n",
    "plt.show()"
   ]
  },
  {
   "cell_type": "markdown",
   "metadata": {},
   "source": [
    "#### Saving this new working model"
   ]
  },
  {
   "cell_type": "code",
   "execution_count": 159,
   "metadata": {},
   "outputs": [],
   "source": [
    "# For future changes\n",
    "from keras.models import load_model\n",
    "new_model.save('sample/my_model_V1.h5')  # creates a HDF5 file 'my_model_V1.h5'"
   ]
  },
  {
   "cell_type": "markdown",
   "metadata": {},
   "source": [
    "### Loading Model and getting some prediction"
   ]
  },
  {
   "cell_type": "code",
   "execution_count": 24,
   "metadata": {},
   "outputs": [],
   "source": [
    "model = keras.applications.inception_v3.InceptionV3(include_top=False, weights='imagenet', input_tensor=None, input_shape=(299, 299, 3)\n",
    ", pooling=None, classes=8)"
   ]
  },
  {
   "cell_type": "code",
   "execution_count": 45,
   "metadata": {},
   "outputs": [
    {
     "name": "stderr",
     "output_type": "stream",
     "text": [
      "/anaconda3/lib/python3.6/site-packages/keras/engine/saving.py:292: UserWarning: No training configuration found in save file: the model was *not* compiled. Compile it manually.\n",
      "  warnings.warn('No training configuration found in save file: '\n"
     ]
    }
   ],
   "source": [
    "# For future changes\n",
    "from keras.models import load_model\n",
    "model.save('sample/my_model.h5')  # creates a HDF5 file 'my_model.h5'\n",
    "del model  # deletes the existing model\n",
    "\n",
    "# returns a compiled model\n",
    "# identical to the previous one\n",
    "model = load_model('sample/my_model.h5')"
   ]
  },
  {
   "cell_type": "code",
   "execution_count": null,
   "metadata": {},
   "outputs": [],
   "source": []
  },
  {
   "cell_type": "markdown",
   "metadata": {},
   "source": [
    "#### Some utility calls I might have used before"
   ]
  },
  {
   "cell_type": "code",
   "execution_count": 37,
   "metadata": {},
   "outputs": [
    {
     "name": "stdout",
     "output_type": "stream",
     "text": [
      "hello world\n"
     ]
    }
   ],
   "source": [
    "import ctypes\n",
    "a = \"hello world\"\n",
    "print(ctypes.cast(id(a), ctypes.py_object).value)"
   ]
  },
  {
   "cell_type": "code",
   "execution_count": 41,
   "metadata": {},
   "outputs": [],
   "source": [
    "import gc\n",
    "def objects_by_id(id_):\n",
    "    for obj in gc.get_objects():\n",
    "        if id(obj) == id_:\n",
    "            return obj\n",
    "    raise Exception(\"No found\")"
   ]
  },
  {
   "cell_type": "code",
   "execution_count": null,
   "metadata": {
    "_uuid": "a06948e6b6dcf884b9dba72f909045122cfe2cb7"
   },
   "outputs": [],
   "source": [
    "data.columns = [c.lower().replace(' ', '_') for c in data.columns]\n",
    "data.head(20)"
   ]
  },
  {
   "cell_type": "code",
   "execution_count": 4,
   "metadata": {},
   "outputs": [],
   "source": [
    "data = pd.read_csv(PATH_TO_META_SAMPLES)\n",
    "data['patient_age'] = [int(str_age.strip('YMD')) for str_age in data['patient_age']]"
   ]
  },
  {
   "cell_type": "code",
   "execution_count": 13,
   "metadata": {
    "_uuid": "c94ecacbd7738b22dfa29009c8ca793cebbc4010"
   },
   "outputs": [],
   "source": [
    "n = len(data['image_index'])\n",
    "labels = []\n",
    "for index, row in data.iterrows():\n",
    "    temp = row['view_position'] + \"-\" + str(row['rotations'])\n",
    "    labels.append(temp)"
   ]
  },
  {
   "cell_type": "code",
   "execution_count": 20,
   "metadata": {},
   "outputs": [],
   "source": [
    "data.to_csv('sample/updated_rotated_samples.csv', index=False)"
   ]
  }
 ],
 "metadata": {
  "kernelspec": {
   "display_name": "Python 3",
   "language": "python",
   "name": "python3"
  },
  "language_info": {
   "codemirror_mode": {
    "name": "ipython",
    "version": 3
   },
   "file_extension": ".py",
   "mimetype": "text/x-python",
   "name": "python",
   "nbconvert_exporter": "python",
   "pygments_lexer": "ipython3",
   "version": "3.6.5"
  }
 },
 "nbformat": 4,
 "nbformat_minor": 1
}
